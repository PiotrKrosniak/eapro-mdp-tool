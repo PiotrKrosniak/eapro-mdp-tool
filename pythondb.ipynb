{
 "cells": [
  {
   "cell_type": "code",
   "execution_count": 2,
   "metadata": {},
   "outputs": [],
   "source": [
    "import sqlite3\n",
    "\n",
    "# Connect to the SQLite database\n",
    "conn = sqlite3.connect('data.db')\n",
    "\n",
    "# Create a cursor object\n",
    "cursor = conn.cursor()\n",
    "\n",
    "# Data to be inserted\n",
    "provinces_data = [\n",
    "    ('Vientiane Capital', 1010000, 510000),\n",
    "    ('Phongsaly', 198000, 98000),\n",
    "    ('Luangnamtha', 209000, 105000),\n",
    "    ('Oudomxay', 361000, 180000),\n",
    "    ('Bokeo', 213000, 107000),\n",
    "    ('Luangprabang', 478000, 238000),\n",
    "    ('Huaphanh', 317000, 157000),\n",
    "    ('Xayaboury', 439000, 215000),\n",
    "    ('Xiengkhuang', 274000, 136000),\n",
    "    ('Vientiane', 479000, 240000),\n",
    "    ('Borikhamxay', 331000, 165000),\n",
    "    ('Khammuane', 451000, 225000),\n",
    "    ('Savannakhet', 1117000, 558000),\n",
    "    ('Saravane', 465000, 230000),\n",
    "    ('Sekong', 137000, 67000),\n",
    "    ('Champasack', 781000, 396000),\n",
    "    ('Attapeu', 169000, 83000),\n",
    "    ('Xaysomboon', 117000, 56000)\n",
    "]\n",
    "\n",
    "# Create the table\n",
    "cursor.execute('''\n",
    "CREATE TABLE IF NOT EXISTS provinces (\n",
    "    province TEXT,\n",
    "    total INTEGER,\n",
    "    female INTEGER\n",
    ")\n",
    "''')\n",
    "\n",
    "# Insert data into the table\n",
    "cursor.executemany('''\n",
    "INSERT INTO provinces (province, total, female) VALUES (?, ?, ?)\n",
    "''', provinces_data)\n",
    "\n",
    "# Commit the changes\n",
    "conn.commit()\n",
    "\n",
    "# Close the connection\n",
    "conn.close()"
   ]
  },
  {
   "cell_type": "code",
   "execution_count": 5,
   "metadata": {},
   "outputs": [
    {
     "name": "stdout",
     "output_type": "stream",
     "text": [
      "Data has been successfully inserted into data.db.\n"
     ]
    }
   ],
   "source": [
    "import json\n",
    "import sqlite3\n",
    "from shapely.geometry import shape\n",
    "\n",
    "# Load GeoJSON file\n",
    "with open('static/EAPRO-ADM1.geojson', 'r') as file:\n",
    "    geojson_data = json.load(file)\n",
    "\n",
    "# Connect to SQLite database\n",
    "conn = sqlite3.connect('data.db')\n",
    "cursor = conn.cursor()\n",
    "\n",
    "# Create table\n",
    "cursor.execute('''\n",
    "CREATE TABLE IF NOT EXISTS countries (\n",
    "    id INTEGER PRIMARY KEY AUTOINCREMENT,\n",
    "    countryname TEXT,\n",
    "    countryiso3 TEXT,\n",
    "    province TEXT,\n",
    "    geometry TEXT\n",
    ")\n",
    "''')\n",
    "\n",
    "# Insert data into the table\n",
    "for feature in geojson_data['features']:\n",
    "    province = feature['properties'].get('shapeName')\n",
    "    countryname = feature['properties'].get('shapeGroup')\n",
    "    countryiso3 = feature['properties'].get('shapeGroup')\n",
    "    geometry = json.dumps(feature['geometry'])  # Store geometry as JSON string\n",
    "    \n",
    "    # Insert data\n",
    "    cursor.execute('''\n",
    "    INSERT INTO countries (countryname, countryiso3, province, geometry)\n",
    "    VALUES (?, ?, ?, ?)\n",
    "    ''', (None, countryiso3, province, geometry))\n",
    "\n",
    "# Commit and close connection\n",
    "conn.commit()\n",
    "conn.close()\n",
    "\n",
    "print(\"Data has been successfully inserted into data.db.\")\n"
   ]
  }
 ],
 "metadata": {
  "kernelspec": {
   "display_name": "Python 3",
   "language": "python",
   "name": "python3"
  },
  "language_info": {
   "codemirror_mode": {
    "name": "ipython",
    "version": 3
   },
   "file_extension": ".py",
   "mimetype": "text/x-python",
   "name": "python",
   "nbconvert_exporter": "python",
   "pygments_lexer": "ipython3",
   "version": "3.9.6"
  }
 },
 "nbformat": 4,
 "nbformat_minor": 2
}
